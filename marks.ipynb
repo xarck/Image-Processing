{
 "cells": [
  {
   "cell_type": "code",
   "execution_count": 14,
   "metadata": {},
   "outputs": [],
   "source": [
    "import torch\n",
    "import torch.nn as nn\n",
    "from numpy import random\n",
    "import torch.optim as optim\n",
    "from torch.utils.data import Dataset,DataLoader\n",
    "import matplotlib.pyplot as plt\n",
    "from tqdm import tqdm"
   ]
  },
  {
   "cell_type": "code",
   "execution_count": 15,
   "metadata": {},
   "outputs": [],
   "source": [
    "data = random.randint(0,100,(10000,5))\n",
    "test_data = random.randint(0,100,(1000,5))"
   ]
  },
  {
   "cell_type": "code",
   "execution_count": 16,
   "metadata": {},
   "outputs": [],
   "source": [
    "class DatasetFromData(Dataset):\n",
    "    def __init__(self,arr) -> None:\n",
    "        super().__init__()\n",
    "        self.arr = arr \n",
    "    def __getitem__(self, index):\n",
    "        i = self.arr[index]\n",
    "        if(i.sum()>400): val = 4\n",
    "        elif(i.sum()>300): val = 3\n",
    "        elif(i.sum()>200): val = 2\n",
    "        elif(i.sum()>100): val = 1\n",
    "        else: val = 0\n",
    "        return torch.tensor(i.sum(),dtype=torch.float).unsqueeze(0),val\n",
    "\n",
    "    def __len__(self):\n",
    "        return len(self.arr)"
   ]
  },
  {
   "cell_type": "code",
   "execution_count": 17,
   "metadata": {},
   "outputs": [],
   "source": [
    "train_ds = DatasetFromData(data)\n",
    "train_dl  = DataLoader(train_ds,100,shuffle=True,drop_last=True)\n",
    "test_ds = DatasetFromData(test_data)\n",
    "test_dl  = DataLoader(test_ds,100,shuffle=True,drop_last=True)"
   ]
  },
  {
   "cell_type": "code",
   "execution_count": 18,
   "metadata": {},
   "outputs": [],
   "source": [
    "model  = nn.Linear(1,5)"
   ]
  },
  {
   "cell_type": "code",
   "execution_count": 19,
   "metadata": {},
   "outputs": [],
   "source": [
    "criterion = nn.CrossEntropyLoss()\n",
    "opt = optim.Adam(model.parameters(),lr=0.01)"
   ]
  },
  {
   "cell_type": "code",
   "execution_count": 20,
   "metadata": {},
   "outputs": [
    {
     "name": "stdout",
     "output_type": "stream",
     "text": [
      "torch.Size([100, 1])\n"
     ]
    }
   ],
   "source": [
    "for marks,label in train_dl:\n",
    "        print(marks.shape)\n",
    "        preds = model(marks.type(dtype=torch.float))\n",
    "        break"
   ]
  },
  {
   "cell_type": "code",
   "execution_count": 21,
   "metadata": {},
   "outputs": [
    {
     "name": "stderr",
     "output_type": "stream",
     "text": [
      "Loss: 0.2756722569465637: 100%|██████████| 100/100 [00:46<00:00,  2.17it/s]\n"
     ]
    }
   ],
   "source": [
    "losses = []\n",
    "prog_bar = tqdm(range(100))\n",
    "for i in prog_bar:\n",
    "    for marks,label in train_dl:\n",
    "        preds = model(marks.type(dtype=torch.float))\n",
    "        loss = criterion(preds,label)\n",
    "        opt.zero_grad()\n",
    "        loss.backward()\n",
    "        opt.step()\n",
    "        losses.append(loss.item())\n",
    "    prog_bar.set_description(desc=f\"Loss: {loss.item()}\")"
   ]
  },
  {
   "cell_type": "code",
   "execution_count": 27,
   "metadata": {},
   "outputs": [
    {
     "name": "stdout",
     "output_type": "stream",
     "text": [
      "0.97\n"
     ]
    }
   ],
   "source": [
    "for marks,labels in test_dl:\n",
    "    preds = model(marks)\n",
    "    preds = torch.argmax(preds,1)\n",
    "    print((preds.detach().numpy() == labels.numpy()).mean())\n",
    "    break"
   ]
  },
  {
   "cell_type": "code",
   "execution_count": 50,
   "metadata": {},
   "outputs": [
    {
     "name": "stdout",
     "output_type": "stream",
     "text": [
      "217.0 [-113.58396 -104.94527 -102.89301 -108.14227 -109.65129]\n"
     ]
    },
    {
     "data": {
      "text/plain": [
       "2"
      ]
     },
     "execution_count": 50,
     "metadata": {},
     "output_type": "execute_result"
    }
   ],
   "source": [
    "a = torch.randint(200,300,(1,1),dtype=torch.float)\n",
    "pred = model(a)\n",
    "print(a.item(),pred[0].detach().numpy())\n",
    "torch.argmax(pred,1).item()"
   ]
  },
  {
   "cell_type": "code",
   "execution_count": 46,
   "metadata": {},
   "outputs": [
    {
     "data": {
      "text/plain": [
       "[<matplotlib.lines.Line2D at 0x20661cce5b0>]"
      ]
     },
     "execution_count": 46,
     "metadata": {},
     "output_type": "execute_result"
    },
    {
     "data": {
      "image/png": "[encoded data removed]",
      "text/plain": [
       "<Figure size 640x480 with 1 Axes>"
      ]
     },
     "metadata": {},
     "output_type": "display_data"
    }
   ],
   "source": [
    "plt.plot(losses)"
   ]
  }
 ],
 "metadata": {
  "kernelspec": {
   "display_name": "Python 3.9.0 64-bit",
   "language": "python",
   "name": "python3"
  },
  "language_info": {
   "codemirror_mode": {
    "name": "ipython",
    "version": 3
   },
   "file_extension": ".py",
   "mimetype": "text/x-python",
   "name": "python",
   "nbconvert_exporter": "python",
   "pygments_lexer": "ipython3",
   "version": "3.9.0"
  },
  "orig_nbformat": 4,
  "vscode": {
   "interpreter": {
    "hash": "e665b74af24a49631f040b8b7c1cdf816c9acaf2f58bbe39260df961067cd65f"
   }
  }
 },
 "nbformat": 4,
 "nbformat_minor": 2
}
